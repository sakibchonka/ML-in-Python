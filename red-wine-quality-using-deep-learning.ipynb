{
 "cells": [
  {
   "cell_type": "code",
   "execution_count": 1,
   "id": "5b978485",
   "metadata": {
    "execution": {
     "iopub.execute_input": "2022-01-01T11:18:34.013987Z",
     "iopub.status.busy": "2022-01-01T11:18:34.012698Z",
     "iopub.status.idle": "2022-01-01T11:18:34.080648Z",
     "shell.execute_reply": "2022-01-01T11:18:34.079928Z",
     "shell.execute_reply.started": "2022-01-01T10:25:07.488447Z"
    },
    "papermill": {
     "duration": 0.085681,
     "end_time": "2022-01-01T11:18:34.080821",
     "exception": false,
     "start_time": "2022-01-01T11:18:33.995140",
     "status": "completed"
    },
    "tags": []
   },
   "outputs": [
    {
     "data": {
      "text/html": [
       "<div>\n",
       "<style scoped>\n",
       "    .dataframe tbody tr th:only-of-type {\n",
       "        vertical-align: middle;\n",
       "    }\n",
       "\n",
       "    .dataframe tbody tr th {\n",
       "        vertical-align: top;\n",
       "    }\n",
       "\n",
       "    .dataframe thead th {\n",
       "        text-align: right;\n",
       "    }\n",
       "</style>\n",
       "<table border=\"1\" class=\"dataframe\">\n",
       "  <thead>\n",
       "    <tr style=\"text-align: right;\">\n",
       "      <th></th>\n",
       "      <th>fixed.acidity</th>\n",
       "      <th>volatile.acidity</th>\n",
       "      <th>citric.acid</th>\n",
       "      <th>residual.sugar</th>\n",
       "      <th>chlorides</th>\n",
       "      <th>free.sulfur.dioxide</th>\n",
       "      <th>total.sulfur.dioxide</th>\n",
       "      <th>density</th>\n",
       "      <th>pH</th>\n",
       "      <th>sulphates</th>\n",
       "      <th>alcohol</th>\n",
       "      <th>quality</th>\n",
       "    </tr>\n",
       "  </thead>\n",
       "  <tbody>\n",
       "    <tr>\n",
       "      <th>0</th>\n",
       "      <td>7.4</td>\n",
       "      <td>0.70</td>\n",
       "      <td>0.00</td>\n",
       "      <td>1.9</td>\n",
       "      <td>0.076</td>\n",
       "      <td>11.0</td>\n",
       "      <td>34.0</td>\n",
       "      <td>0.9978</td>\n",
       "      <td>3.51</td>\n",
       "      <td>0.56</td>\n",
       "      <td>9.4</td>\n",
       "      <td>5</td>\n",
       "    </tr>\n",
       "    <tr>\n",
       "      <th>1</th>\n",
       "      <td>7.8</td>\n",
       "      <td>0.88</td>\n",
       "      <td>0.00</td>\n",
       "      <td>2.6</td>\n",
       "      <td>0.098</td>\n",
       "      <td>25.0</td>\n",
       "      <td>67.0</td>\n",
       "      <td>0.9968</td>\n",
       "      <td>3.20</td>\n",
       "      <td>0.68</td>\n",
       "      <td>9.8</td>\n",
       "      <td>5</td>\n",
       "    </tr>\n",
       "    <tr>\n",
       "      <th>2</th>\n",
       "      <td>7.8</td>\n",
       "      <td>0.76</td>\n",
       "      <td>0.04</td>\n",
       "      <td>2.3</td>\n",
       "      <td>0.092</td>\n",
       "      <td>15.0</td>\n",
       "      <td>54.0</td>\n",
       "      <td>0.9970</td>\n",
       "      <td>3.26</td>\n",
       "      <td>0.65</td>\n",
       "      <td>9.8</td>\n",
       "      <td>5</td>\n",
       "    </tr>\n",
       "    <tr>\n",
       "      <th>3</th>\n",
       "      <td>11.2</td>\n",
       "      <td>0.28</td>\n",
       "      <td>0.56</td>\n",
       "      <td>1.9</td>\n",
       "      <td>0.075</td>\n",
       "      <td>17.0</td>\n",
       "      <td>60.0</td>\n",
       "      <td>0.9980</td>\n",
       "      <td>3.16</td>\n",
       "      <td>0.58</td>\n",
       "      <td>9.8</td>\n",
       "      <td>6</td>\n",
       "    </tr>\n",
       "    <tr>\n",
       "      <th>4</th>\n",
       "      <td>7.4</td>\n",
       "      <td>0.70</td>\n",
       "      <td>0.00</td>\n",
       "      <td>1.9</td>\n",
       "      <td>0.076</td>\n",
       "      <td>11.0</td>\n",
       "      <td>34.0</td>\n",
       "      <td>0.9978</td>\n",
       "      <td>3.51</td>\n",
       "      <td>0.56</td>\n",
       "      <td>9.4</td>\n",
       "      <td>5</td>\n",
       "    </tr>\n",
       "  </tbody>\n",
       "</table>\n",
       "</div>"
      ],
      "text/plain": [
       "   fixed.acidity  volatile.acidity  citric.acid  residual.sugar  chlorides  \\\n",
       "0            7.4              0.70         0.00             1.9      0.076   \n",
       "1            7.8              0.88         0.00             2.6      0.098   \n",
       "2            7.8              0.76         0.04             2.3      0.092   \n",
       "3           11.2              0.28         0.56             1.9      0.075   \n",
       "4            7.4              0.70         0.00             1.9      0.076   \n",
       "\n",
       "   free.sulfur.dioxide  total.sulfur.dioxide  density    pH  sulphates  \\\n",
       "0                 11.0                  34.0   0.9978  3.51       0.56   \n",
       "1                 25.0                  67.0   0.9968  3.20       0.68   \n",
       "2                 15.0                  54.0   0.9970  3.26       0.65   \n",
       "3                 17.0                  60.0   0.9980  3.16       0.58   \n",
       "4                 11.0                  34.0   0.9978  3.51       0.56   \n",
       "\n",
       "   alcohol  quality  \n",
       "0      9.4        5  \n",
       "1      9.8        5  \n",
       "2      9.8        5  \n",
       "3      9.8        6  \n",
       "4      9.4        5  "
      ]
     },
     "execution_count": 1,
     "metadata": {},
     "output_type": "execute_result"
    }
   ],
   "source": [
    "import pandas as pd\n",
    "from IPython.display import display\n",
    "\n",
    "red_wine = pd.read_csv('../input/red-wine-dataset/wineQualityReds.csv')\n",
    "red_wine = red_wine.drop(red_wine.columns[[0]],axis=1)\n",
    "red_wine.head()"
   ]
  },
  {
   "cell_type": "code",
   "execution_count": 2,
   "id": "afef61f4",
   "metadata": {
    "execution": {
     "iopub.execute_input": "2022-01-01T11:18:34.110433Z",
     "iopub.status.busy": "2022-01-01T11:18:34.109467Z",
     "iopub.status.idle": "2022-01-01T11:18:34.128752Z",
     "shell.execute_reply": "2022-01-01T11:18:34.129305Z",
     "shell.execute_reply.started": "2022-01-01T10:28:58.782374Z"
    },
    "papermill": {
     "duration": 0.035297,
     "end_time": "2022-01-01T11:18:34.129494",
     "exception": false,
     "start_time": "2022-01-01T11:18:34.094197",
     "status": "completed"
    },
    "tags": []
   },
   "outputs": [
    {
     "name": "stdout",
     "output_type": "stream",
     "text": [
      "<class 'pandas.core.frame.DataFrame'>\n",
      "RangeIndex: 1599 entries, 0 to 1598\n",
      "Data columns (total 12 columns):\n",
      " #   Column                Non-Null Count  Dtype  \n",
      "---  ------                --------------  -----  \n",
      " 0   fixed.acidity         1599 non-null   float64\n",
      " 1   volatile.acidity      1599 non-null   float64\n",
      " 2   citric.acid           1599 non-null   float64\n",
      " 3   residual.sugar        1599 non-null   float64\n",
      " 4   chlorides             1599 non-null   float64\n",
      " 5   free.sulfur.dioxide   1599 non-null   float64\n",
      " 6   total.sulfur.dioxide  1599 non-null   float64\n",
      " 7   density               1599 non-null   float64\n",
      " 8   pH                    1599 non-null   float64\n",
      " 9   sulphates             1599 non-null   float64\n",
      " 10  alcohol               1599 non-null   float64\n",
      " 11  quality               1599 non-null   int64  \n",
      "dtypes: float64(11), int64(1)\n",
      "memory usage: 150.0 KB\n"
     ]
    }
   ],
   "source": [
    "red_wine.info()"
   ]
  },
  {
   "cell_type": "markdown",
   "id": "352fe88a",
   "metadata": {
    "papermill": {
     "duration": 0.012407,
     "end_time": "2022-01-01T11:18:34.154787",
     "exception": false,
     "start_time": "2022-01-01T11:18:34.142380",
     "status": "completed"
    },
    "tags": []
   },
   "source": [
    "## creating training and validation splits"
   ]
  },
  {
   "cell_type": "code",
   "execution_count": 3,
   "id": "0dfcc252",
   "metadata": {
    "execution": {
     "iopub.execute_input": "2022-01-01T11:18:34.184074Z",
     "iopub.status.busy": "2022-01-01T11:18:34.183411Z",
     "iopub.status.idle": "2022-01-01T11:18:34.205161Z",
     "shell.execute_reply": "2022-01-01T11:18:34.205672Z",
     "shell.execute_reply.started": "2022-01-01T10:26:52.256363Z"
    },
    "papermill": {
     "duration": 0.038146,
     "end_time": "2022-01-01T11:18:34.205839",
     "exception": false,
     "start_time": "2022-01-01T11:18:34.167693",
     "status": "completed"
    },
    "tags": []
   },
   "outputs": [
    {
     "data": {
      "text/html": [
       "<div>\n",
       "<style scoped>\n",
       "    .dataframe tbody tr th:only-of-type {\n",
       "        vertical-align: middle;\n",
       "    }\n",
       "\n",
       "    .dataframe tbody tr th {\n",
       "        vertical-align: top;\n",
       "    }\n",
       "\n",
       "    .dataframe thead th {\n",
       "        text-align: right;\n",
       "    }\n",
       "</style>\n",
       "<table border=\"1\" class=\"dataframe\">\n",
       "  <thead>\n",
       "    <tr style=\"text-align: right;\">\n",
       "      <th></th>\n",
       "      <th>fixed.acidity</th>\n",
       "      <th>volatile.acidity</th>\n",
       "      <th>citric.acid</th>\n",
       "      <th>residual.sugar</th>\n",
       "      <th>chlorides</th>\n",
       "      <th>free.sulfur.dioxide</th>\n",
       "      <th>total.sulfur.dioxide</th>\n",
       "      <th>density</th>\n",
       "      <th>pH</th>\n",
       "      <th>sulphates</th>\n",
       "      <th>alcohol</th>\n",
       "      <th>quality</th>\n",
       "    </tr>\n",
       "  </thead>\n",
       "  <tbody>\n",
       "    <tr>\n",
       "      <th>1109</th>\n",
       "      <td>10.8</td>\n",
       "      <td>0.470</td>\n",
       "      <td>0.43</td>\n",
       "      <td>2.10</td>\n",
       "      <td>0.171</td>\n",
       "      <td>27.0</td>\n",
       "      <td>66.0</td>\n",
       "      <td>0.99820</td>\n",
       "      <td>3.17</td>\n",
       "      <td>0.76</td>\n",
       "      <td>10.8</td>\n",
       "      <td>6</td>\n",
       "    </tr>\n",
       "    <tr>\n",
       "      <th>1032</th>\n",
       "      <td>8.1</td>\n",
       "      <td>0.820</td>\n",
       "      <td>0.00</td>\n",
       "      <td>4.10</td>\n",
       "      <td>0.095</td>\n",
       "      <td>5.0</td>\n",
       "      <td>14.0</td>\n",
       "      <td>0.99854</td>\n",
       "      <td>3.36</td>\n",
       "      <td>0.53</td>\n",
       "      <td>9.6</td>\n",
       "      <td>5</td>\n",
       "    </tr>\n",
       "    <tr>\n",
       "      <th>1002</th>\n",
       "      <td>9.1</td>\n",
       "      <td>0.290</td>\n",
       "      <td>0.33</td>\n",
       "      <td>2.05</td>\n",
       "      <td>0.063</td>\n",
       "      <td>13.0</td>\n",
       "      <td>27.0</td>\n",
       "      <td>0.99516</td>\n",
       "      <td>3.26</td>\n",
       "      <td>0.84</td>\n",
       "      <td>11.7</td>\n",
       "      <td>7</td>\n",
       "    </tr>\n",
       "    <tr>\n",
       "      <th>487</th>\n",
       "      <td>10.2</td>\n",
       "      <td>0.645</td>\n",
       "      <td>0.36</td>\n",
       "      <td>1.80</td>\n",
       "      <td>0.053</td>\n",
       "      <td>5.0</td>\n",
       "      <td>14.0</td>\n",
       "      <td>0.99820</td>\n",
       "      <td>3.17</td>\n",
       "      <td>0.42</td>\n",
       "      <td>10.0</td>\n",
       "      <td>6</td>\n",
       "    </tr>\n",
       "  </tbody>\n",
       "</table>\n",
       "</div>"
      ],
      "text/plain": [
       "      fixed.acidity  volatile.acidity  citric.acid  residual.sugar  chlorides  \\\n",
       "1109           10.8             0.470         0.43            2.10      0.171   \n",
       "1032            8.1             0.820         0.00            4.10      0.095   \n",
       "1002            9.1             0.290         0.33            2.05      0.063   \n",
       "487            10.2             0.645         0.36            1.80      0.053   \n",
       "\n",
       "      free.sulfur.dioxide  total.sulfur.dioxide  density    pH  sulphates  \\\n",
       "1109                 27.0                  66.0  0.99820  3.17       0.76   \n",
       "1032                  5.0                  14.0  0.99854  3.36       0.53   \n",
       "1002                 13.0                  27.0  0.99516  3.26       0.84   \n",
       "487                   5.0                  14.0  0.99820  3.17       0.42   \n",
       "\n",
       "      alcohol  quality  \n",
       "1109     10.8        6  \n",
       "1032      9.6        5  \n",
       "1002     11.7        7  \n",
       "487      10.0        6  "
      ]
     },
     "metadata": {},
     "output_type": "display_data"
    }
   ],
   "source": [
    "df_train = red_wine.sample(frac=0.7, random_state=0)\n",
    "df_valid = red_wine.drop(df_train.index)\n",
    "display(df_train.head(4))"
   ]
  },
  {
   "cell_type": "markdown",
   "id": "941ec13b",
   "metadata": {
    "papermill": {
     "duration": 0.013052,
     "end_time": "2022-01-01T11:18:34.232533",
     "exception": false,
     "start_time": "2022-01-01T11:18:34.219481",
     "status": "completed"
    },
    "tags": []
   },
   "source": [
    "## scale to [0,1]"
   ]
  },
  {
   "cell_type": "code",
   "execution_count": 4,
   "id": "20b59a9e",
   "metadata": {
    "execution": {
     "iopub.execute_input": "2022-01-01T11:18:34.262572Z",
     "iopub.status.busy": "2022-01-01T11:18:34.261907Z",
     "iopub.status.idle": "2022-01-01T11:18:34.270150Z",
     "shell.execute_reply": "2022-01-01T11:18:34.270634Z",
     "shell.execute_reply.started": "2022-01-01T10:31:30.942539Z"
    },
    "papermill": {
     "duration": 0.024864,
     "end_time": "2022-01-01T11:18:34.270811",
     "exception": false,
     "start_time": "2022-01-01T11:18:34.245947",
     "status": "completed"
    },
    "tags": []
   },
   "outputs": [],
   "source": [
    "max_ = df_train.max(axis=0)\n",
    "min_ = df_train.min(axis=0)\n",
    "df_train = (df_train - min_)/(max_ - min_)\n",
    "df_valid = (df_valid - min_)/(max_ - min_)"
   ]
  },
  {
   "cell_type": "markdown",
   "id": "ef3caa5c",
   "metadata": {
    "execution": {
     "iopub.execute_input": "2022-01-01T10:32:10.536059Z",
     "iopub.status.busy": "2022-01-01T10:32:10.534942Z",
     "iopub.status.idle": "2022-01-01T10:32:10.540867Z",
     "shell.execute_reply": "2022-01-01T10:32:10.539883Z",
     "shell.execute_reply.started": "2022-01-01T10:32:10.536007Z"
    },
    "papermill": {
     "duration": 0.012977,
     "end_time": "2022-01-01T11:18:34.297221",
     "exception": false,
     "start_time": "2022-01-01T11:18:34.284244",
     "status": "completed"
    },
    "tags": []
   },
   "source": [
    "## split features and target"
   ]
  },
  {
   "cell_type": "code",
   "execution_count": 5,
   "id": "b200fec7",
   "metadata": {
    "execution": {
     "iopub.execute_input": "2022-01-01T11:18:34.327297Z",
     "iopub.status.busy": "2022-01-01T11:18:34.326676Z",
     "iopub.status.idle": "2022-01-01T11:18:34.335527Z",
     "shell.execute_reply": "2022-01-01T11:18:34.336351Z",
     "shell.execute_reply.started": "2022-01-01T10:37:56.600379Z"
    },
    "papermill": {
     "duration": 0.025745,
     "end_time": "2022-01-01T11:18:34.336591",
     "exception": false,
     "start_time": "2022-01-01T11:18:34.310846",
     "status": "completed"
    },
    "tags": []
   },
   "outputs": [
    {
     "name": "stdout",
     "output_type": "stream",
     "text": [
      "(1119, 11)\n",
      "(480, 11)\n",
      "(1119,)\n",
      "(480,)\n"
     ]
    }
   ],
   "source": [
    "X_train = df_train.drop('quality',axis=1)\n",
    "X_valid = df_valid.drop('quality',axis=1)\n",
    "y_train = df_train['quality']\n",
    "y_valid = df_valid['quality']\n",
    "print(X_train.shape)\n",
    "print(X_valid.shape)\n",
    "print(y_train.shape)\n",
    "print(y_valid.shape)"
   ]
  },
  {
   "cell_type": "markdown",
   "id": "b7301e3e",
   "metadata": {
    "papermill": {
     "duration": 0.013536,
     "end_time": "2022-01-01T11:18:34.367601",
     "exception": false,
     "start_time": "2022-01-01T11:18:34.354065",
     "status": "completed"
    },
    "tags": []
   },
   "source": [
    "## Neural Network"
   ]
  },
  {
   "cell_type": "code",
   "execution_count": 6,
   "id": "495d4260",
   "metadata": {
    "_cell_guid": "b1076dfc-b9ad-4769-8c92-a6c4dae69d19",
    "_uuid": "8f2839f25d086af736a60e9eeb907d3b93b6e0e5",
    "execution": {
     "iopub.execute_input": "2022-01-01T11:18:34.398917Z",
     "iopub.status.busy": "2022-01-01T11:18:34.398234Z",
     "iopub.status.idle": "2022-01-01T11:18:40.999923Z",
     "shell.execute_reply": "2022-01-01T11:18:41.000750Z",
     "shell.execute_reply.started": "2022-01-01T11:06:16.377836Z"
    },
    "papermill": {
     "duration": 6.619129,
     "end_time": "2022-01-01T11:18:41.000991",
     "exception": false,
     "start_time": "2022-01-01T11:18:34.381862",
     "status": "completed"
    },
    "tags": []
   },
   "outputs": [
    {
     "name": "stderr",
     "output_type": "stream",
     "text": [
      "\n",
      "User settings:\n",
      "\n",
      "   KMP_AFFINITY=granularity=fine,verbose,compact,1,0\n",
      "   KMP_BLOCKTIME=0\n",
      "   KMP_SETTINGS=1\n",
      "   KMP_WARNINGS=0\n",
      "\n",
      "Effective settings:\n",
      "\n",
      "   KMP_ABORT_DELAY=0\n",
      "   KMP_ADAPTIVE_LOCK_PROPS='1,1024'\n",
      "   KMP_ALIGN_ALLOC=64\n",
      "   KMP_ALL_THREADPRIVATE=128\n",
      "   KMP_ATOMIC_MODE=2\n",
      "   KMP_BLOCKTIME=0\n",
      "   KMP_CPUINFO_FILE: value is not defined\n",
      "   KMP_DETERMINISTIC_REDUCTION=false\n",
      "   KMP_DEVICE_THREAD_LIMIT=2147483647\n",
      "   KMP_DISP_NUM_BUFFERS=7\n",
      "   KMP_DUPLICATE_LIB_OK=false\n",
      "   KMP_ENABLE_TASK_THROTTLING=true\n",
      "   KMP_FORCE_REDUCTION: value is not defined\n",
      "   KMP_FOREIGN_THREADS_THREADPRIVATE=true\n",
      "   KMP_FORKJOIN_BARRIER='2,2'\n",
      "   KMP_FORKJOIN_BARRIER_PATTERN='hyper,hyper'\n",
      "   KMP_GTID_MODE=3\n",
      "   KMP_HANDLE_SIGNALS=false\n",
      "   KMP_HOT_TEAMS_MAX_LEVEL=1\n",
      "   KMP_HOT_TEAMS_MODE=0\n",
      "   KMP_INIT_AT_FORK=true\n",
      "   KMP_LIBRARY=throughput\n",
      "   KMP_LOCK_KIND=queuing\n",
      "   KMP_MALLOC_POOL_INCR=1M\n",
      "   KMP_NUM_LOCKS_IN_BLOCK=1\n",
      "   KMP_PLAIN_BARRIER='2,2'\n",
      "   KMP_PLAIN_BARRIER_PATTERN='hyper,hyper'\n",
      "   KMP_REDUCTION_BARRIER='1,1'\n",
      "   KMP_REDUCTION_BARRIER_PATTERN='hyper,hyper'\n",
      "   KMP_SCHEDULE='static,balanced;guided,iterative'\n",
      "   KMP_SETTINGS=true\n",
      "   KMP_SPIN_BACKOFF_PARAMS='4096,100'\n",
      "   KMP_STACKOFFSET=64\n",
      "   KMP_STACKPAD=0\n",
      "   KMP_STACKSIZE=8M\n",
      "   KMP_STORAGE_MAP=false\n",
      "   KMP_TASKING=2\n",
      "   KMP_TASKLOOP_MIN_TASKS=0\n",
      "   KMP_TASK_STEALING_CONSTRAINT=1\n",
      "   KMP_TEAMS_THREAD_LIMIT=4\n",
      "   KMP_TOPOLOGY_METHOD=all\n",
      "   KMP_USE_YIELD=1\n",
      "   KMP_VERSION=false\n",
      "   KMP_WARNINGS=false\n",
      "   OMP_AFFINITY_FORMAT='OMP: pid %P tid %i thread %n bound to OS proc set {%A}'\n",
      "   OMP_ALLOCATOR=omp_default_mem_alloc\n",
      "   OMP_CANCELLATION=false\n",
      "   OMP_DEFAULT_DEVICE=0\n",
      "   OMP_DISPLAY_AFFINITY=false\n",
      "   OMP_DISPLAY_ENV=false\n",
      "   OMP_DYNAMIC=false\n",
      "   OMP_MAX_ACTIVE_LEVELS=1\n",
      "   OMP_MAX_TASK_PRIORITY=0\n",
      "   OMP_NESTED: deprecated; max-active-levels-var=1\n",
      "   OMP_NUM_THREADS: value is not defined\n",
      "   OMP_PLACES: value is not defined\n",
      "   OMP_PROC_BIND='intel'\n",
      "   OMP_SCHEDULE='static'\n",
      "   OMP_STACKSIZE=8M\n",
      "   OMP_TARGET_OFFLOAD=DEFAULT\n",
      "   OMP_THREAD_LIMIT=2147483647\n",
      "   OMP_WAIT_POLICY=PASSIVE\n",
      "   KMP_AFFINITY='verbose,warnings,respect,granularity=fine,compact,1,0'\n",
      "\n",
      "2022-01-01 11:18:40.856574: I tensorflow/core/common_runtime/process_util.cc:146] Creating new thread pool with default inter op setting: 2. Tune using inter_op_parallelism_threads for best performance.\n"
     ]
    }
   ],
   "source": [
    "from tensorflow import keras\n",
    "from tensorflow.keras import layers\n",
    "\n",
    "model = keras.Sequential([\n",
    "    #hidden ReLU units\n",
    "    layers.Dense(units=512, activation='relu', input_shape=[11]),\n",
    "    layers.BatchNormalization(),\n",
    "    \n",
    "    layers.Dropout(rate=0.3),#Drop out layer to prevent overfitting\n",
    "    layers.Dense(units=512, activation='relu'),    \n",
    "    layers.BatchNormalization(),\n",
    " \n",
    "    layers.Dropout(rate=0.3),\n",
    "    layers.Dense(units=512, activation='relu'),\n",
    "    layers.BatchNormalization(),\n",
    " \n",
    "    #linear output layer\n",
    "    layers.Dense(units=1)\n",
    "])\n",
    "\n",
    "model.compile(\n",
    "    optimizer = 'adam',\n",
    "    loss = 'mae'\n",
    ")"
   ]
  },
  {
   "cell_type": "markdown",
   "id": "5034a129",
   "metadata": {
    "papermill": {
     "duration": 0.014072,
     "end_time": "2022-01-01T11:18:41.030522",
     "exception": false,
     "start_time": "2022-01-01T11:18:41.016450",
     "status": "completed"
    },
    "tags": []
   },
   "source": [
    "## Adding Early Stopping : we can stop training whenever it seems validation loss isnt decreasing"
   ]
  },
  {
   "cell_type": "code",
   "execution_count": 7,
   "id": "d34d088e",
   "metadata": {
    "execution": {
     "iopub.execute_input": "2022-01-01T11:18:41.066534Z",
     "iopub.status.busy": "2022-01-01T11:18:41.065720Z",
     "iopub.status.idle": "2022-01-01T11:18:41.068253Z",
     "shell.execute_reply": "2022-01-01T11:18:41.068739Z",
     "shell.execute_reply.started": "2022-01-01T11:06:30.467559Z"
    },
    "papermill": {
     "duration": 0.023709,
     "end_time": "2022-01-01T11:18:41.068929",
     "exception": false,
     "start_time": "2022-01-01T11:18:41.045220",
     "status": "completed"
    },
    "tags": []
   },
   "outputs": [],
   "source": [
    "from tensorflow.keras.callbacks import EarlyStopping\n",
    "\n",
    "early_stopping = EarlyStopping(\n",
    "    min_delta = 0.001, #min change to count improve\n",
    "    patience = 20, #least epochs to wait\n",
    "    restore_best_weights = True\n",
    ")"
   ]
  },
  {
   "cell_type": "markdown",
   "id": "63d8cb49",
   "metadata": {
    "papermill": {
     "duration": 0.014398,
     "end_time": "2022-01-01T11:18:41.097639",
     "exception": false,
     "start_time": "2022-01-01T11:18:41.083241",
     "status": "completed"
    },
    "tags": []
   },
   "source": [
    "## Fit Model"
   ]
  },
  {
   "cell_type": "code",
   "execution_count": 8,
   "id": "4b17898d",
   "metadata": {
    "execution": {
     "iopub.execute_input": "2022-01-01T11:18:41.131037Z",
     "iopub.status.busy": "2022-01-01T11:18:41.129825Z",
     "iopub.status.idle": "2022-01-01T11:18:46.672618Z",
     "shell.execute_reply": "2022-01-01T11:18:46.671754Z",
     "shell.execute_reply.started": "2022-01-01T11:06:33.215037Z"
    },
    "papermill": {
     "duration": 5.560759,
     "end_time": "2022-01-01T11:18:46.672768",
     "exception": false,
     "start_time": "2022-01-01T11:18:41.112009",
     "status": "completed"
    },
    "tags": []
   },
   "outputs": [
    {
     "name": "stderr",
     "output_type": "stream",
     "text": [
      "2022-01-01 11:18:41.220684: I tensorflow/compiler/mlir/mlir_graph_optimization_pass.cc:185] None of the MLIR Optimization Passes are enabled (registered 2)\n"
     ]
    }
   ],
   "source": [
    "history = model.fit(\n",
    "    X_train,y_train,\n",
    "    validation_data = (X_valid,y_valid),\n",
    "    batch_size = 256,\n",
    "    epochs = 500,\n",
    "    callbacks = [early_stopping],\n",
    "    verbose = 0\n",
    ")"
   ]
  },
  {
   "cell_type": "code",
   "execution_count": 9,
   "id": "baaf9333",
   "metadata": {
    "execution": {
     "iopub.execute_input": "2022-01-01T11:18:46.710061Z",
     "iopub.status.busy": "2022-01-01T11:18:46.704792Z",
     "iopub.status.idle": "2022-01-01T11:18:46.987524Z",
     "shell.execute_reply": "2022-01-01T11:18:46.986915Z",
     "shell.execute_reply.started": "2022-01-01T11:07:04.389821Z"
    },
    "papermill": {
     "duration": 0.300186,
     "end_time": "2022-01-01T11:18:46.987675",
     "exception": false,
     "start_time": "2022-01-01T11:18:46.687489",
     "status": "completed"
    },
    "tags": []
   },
   "outputs": [
    {
     "name": "stdout",
     "output_type": "stream",
     "text": [
      "Min validation loss:0.13889452815055847\n"
     ]
    },
    {
     "data": {
      "image/png": "[encoded data removed]",
      "text/plain": [
       "<Figure size 432x288 with 1 Axes>"
      ]
     },
     "metadata": {
      "needs_background": "light"
     },
     "output_type": "display_data"
    }
   ],
   "source": [
    "history_df = pd.DataFrame(history.history)\n",
    "history_df.loc[:,['loss','val_loss']].plot()\n",
    "\n",
    "print(\"Min validation loss:{}\".format(history_df['val_loss'].min()))"
   ]
  },
  {
   "cell_type": "code",
   "execution_count": null,
   "id": "3f758c05",
   "metadata": {
    "papermill": {
     "duration": 0.015519,
     "end_time": "2022-01-01T11:18:47.019050",
     "exception": false,
     "start_time": "2022-01-01T11:18:47.003531",
     "status": "completed"
    },
    "tags": []
   },
   "outputs": [],
   "source": []
  }
 ],
 "metadata": {
  "kernelspec": {
   "display_name": "Python 3",
   "language": "python",
   "name": "python3"
  },
  "language_info": {
   "codemirror_mode": {
    "name": "ipython",
    "version": 3
   },
   "file_extension": ".py",
   "mimetype": "text/x-python",
   "name": "python",
   "nbconvert_exporter": "python",
   "pygments_lexer": "ipython3",
   "version": "3.7.12"
  },
  "papermill": {
   "default_parameters": {},
   "duration": 25.520095,
   "end_time": "2022-01-01T11:18:49.852116",
   "environment_variables": {},
   "exception": null,
   "input_path": "__notebook__.ipynb",
   "output_path": "__notebook__.ipynb",
   "parameters": {},
   "start_time": "2022-01-01T11:18:24.332021",
   "version": "2.3.3"
  }
 },
 "nbformat": 4,
 "nbformat_minor": 5
}
